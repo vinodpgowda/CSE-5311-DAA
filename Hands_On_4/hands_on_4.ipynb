{
 "cells": [
  {
   "cell_type": "markdown",
   "metadata": {},
   "source": [
    "# Problem 0"
   ]
  },
  {
   "cell_type": "markdown",
   "metadata": {},
   "source": [
    "### 1. Implement the Fibonacci sequence"
   ]
  },
  {
   "cell_type": "code",
   "execution_count": 4,
   "metadata": {},
   "outputs": [
    {
     "name": "stdout",
     "output_type": "stream",
     "text": [
      "Fibonacci sequence:\n",
      "fib(0) = 0\n",
      "fib(1) = 1\n",
      "fib(2) = 1\n",
      "fib(3) = 2\n",
      "fib(4) = 3\n",
      "fib(5) = 5\n",
      "\n",
      "Function call stack for fib(5):\n",
      "fib(5) -> fib(4), fib(3)\n",
      "fib(4) -> fib(3), fib(2)\n",
      "fib(3) -> fib(2), fib(1)\n",
      "fib(2) -> fib(1), fib(0)\n",
      "fib(1)\n",
      "fib(0)\n",
      "fib(1)\n",
      "fib(2) -> fib(1), fib(0)\n",
      "fib(1)\n",
      "fib(0)\n",
      "fib(3) -> fib(2), fib(1)\n",
      "fib(2) -> fib(1), fib(0)\n",
      "fib(1)\n",
      "fib(0)\n",
      "fib(1)\n"
     ]
    },
    {
     "data": {
      "text/plain": [
       "5"
      ]
     },
     "execution_count": 4,
     "metadata": {},
     "output_type": "execute_result"
    }
   ],
   "source": [
    "def fib(n):\n",
    "    if n == 0:\n",
    "        return 0\n",
    "    if n == 1:\n",
    "        return 1\n",
    "    return fib(n-1) + fib(n-2)\n",
    "\n",
    "def fib_call_stack(n):\n",
    "    if n == 0:\n",
    "        print(\"fib(0)\")\n",
    "        return 0\n",
    "    if n == 1:\n",
    "        print(\"fib(1)\")\n",
    "        return 1\n",
    "    print(f\"fib({n}) -> fib({n-1}), fib({n-2})\")\n",
    "    return fib_call_stack(n-1) + fib_call_stack(n-2)\n",
    "\n",
    "print(\"Fibonacci sequence:\")\n",
    "for i in range(6):\n",
    "    print(f\"fib({i}) =\", fib(i))\n",
    "print(\"\\nFunction call stack for fib(5):\")\n",
    "fib_call_stack(5)\n"
   ]
  },
  {
   "cell_type": "markdown",
   "metadata": {},
   "source": [
    "### 2. Prove the time complexity of the algorithms\n",
    "\n",
    "The time complexity of the Fibonacci algorithm implemented using recursion is exponential, specifically O(2^n). This is because each call to the function results in two recursive calls (except for the base cases), leading to a binary tree of recursive calls. As a result, the number of function calls grows exponentially with the input size, making the time complexity exponential.\n",
    "\n",
    "\n",
    "\n",
    "### 3. Comment on way's you could improve your implementation (you don't need to do it just discuss it)\n",
    "\n",
    "1. **Memoization:** Store the results of subproblems (i.e., Fibonacci numbers already computed) so that they can be reused instead of recalculated. This can significantly reduce redundant calculations and improve the efficiency of the algorithm.\n",
    "\n",
    "2. **Iterative Approach:** Implement the Fibonacci sequence using an iterative approach instead of recursion. This can avoid the overhead of function calls and reduce the space complexity.\n",
    "\n",
    "3. **Using Matrix Exponentiation:** There's an efficient algorithm based on matrix exponentiation that can compute Fibonacci numbers in logarithmic time. This method can be further optimized for large inputs.\n",
    "\n",
    "4. **Tail Recursion Optimization:** Use tail recursion optimization techniques if available in the programming language to avoid stack overflow errors for large inputs.\n",
    "\n",
    "5. **Dynamic Programming:** Apply dynamic programming techniques to solve the problem iteratively with better time complexity than the simple recursive approach."
   ]
  },
  {
   "cell_type": "markdown",
   "metadata": {},
   "source": [
    "# Problem 1"
   ]
  },
  {
   "cell_type": "markdown",
   "metadata": {},
   "source": [
    "Given K sorted arrays of size N each, the task is to merge them all maintaining their sorted order.\n",
    "\n",
    "Examples: \n",
    "\n",
    "Input: K = 3, N =  4\n",
    "array1 = [1,3,5,7]\n",
    "array2 = [2,4,6,8]\n",
    "array3 = [0,9,10,11]\n",
    "Output: [0,1,2,3,4,5,6,7,8,9,10,11]  \n",
    "Merged array in a sorted order where every element is greater than the previous element.\n",
    "\n",
    "Input: K = 3, N =  3\n",
    "array1 = [1,3,7]\n",
    "array2 = [2,4,8]\n",
    "array3 = [9,10,11]\n",
    "Output: [1,2,3,4,7,8,9,10,11]  \n",
    "Merged array in a sorted order where every element is greater than the previous element.\n",
    "\n"
   ]
  },
  {
   "cell_type": "code",
   "execution_count": 5,
   "metadata": {},
   "outputs": [
    {
     "name": "stdout",
     "output_type": "stream",
     "text": [
      "[1, 2, 3, 4, 7, 8, 9, 10, 11]\n"
     ]
    }
   ],
   "source": [
    "import heapq\n",
    "\n",
    "def merge_arrays(arrays):\n",
    "    # Initialize a heap to store the smallest elements from each array\n",
    "    heap = []\n",
    "    result = []\n",
    "    \n",
    "    # Push the first element of each array onto the heap along with the array index\n",
    "    for i, array in enumerate(arrays):\n",
    "        if array:\n",
    "            heapq.heappush(heap, (array[0], i, 0))\n",
    "    \n",
    "    # Merge the arrays\n",
    "    while heap:\n",
    "        val, array_index, index = heapq.heappop(heap)\n",
    "        result.append(val)\n",
    "        \n",
    "        # Move to the next element in the array from which the smallest element was popped\n",
    "        if index + 1 < len(arrays[array_index]):\n",
    "            next_val = arrays[array_index][index + 1]\n",
    "            heapq.heappush(heap, (next_val, array_index, index + 1))\n",
    "    \n",
    "    return result\n",
    "\n",
    "# Example usage:\n",
    "array1 = [1, 3, 7]\n",
    "array2 = [2, 4, 8]\n",
    "array3 = [9, 10, 11]\n",
    "\n",
    "result = merge_arrays([array1, array2, array3])\n",
    "print(result)\n"
   ]
  },
  {
   "cell_type": "markdown",
   "metadata": {},
   "source": [
    "# Problem 2\n",
    "\n",
    "Given a sorted array array of size N, the task is to remove the duplicate elements from the array.\n",
    "\n",
    "Examples: \n",
    "\n",
    "Input: array = [2, 2, 2, 2, 2]\n",
    "Output: array= [2]\n",
    "Explanation: All the elements are 2, So only keep one instance of 2.\n",
    "\n",
    "Input: array = [1, 2, 2, 3, 4, 4, 4, 5, 5]\n",
    "Output: array[] = {1, 2, 3, 4, 5}\n",
    "\n",
    "Note, you can't use something like the set container in C++.\n"
   ]
  },
  {
   "cell_type": "code",
   "execution_count": 6,
   "metadata": {},
   "outputs": [
    {
     "name": "stdout",
     "output_type": "stream",
     "text": [
      "Original array: [2, 2, 2, 2, 2]\n",
      "Array after removing duplicates: [2]\n",
      "\n",
      "Original array: [1, 2, 2, 3, 4, 4, 4, 5, 5]\n",
      "Array after removing duplicates: [1, 2, 3, 4, 5]\n"
     ]
    }
   ],
   "source": [
    "def remove_duplicates(arr):\n",
    "    if not arr:\n",
    "        return []\n",
    "    \n",
    "    # Initialize variables\n",
    "    unique_index = 0\n",
    "    \n",
    "    # Iterate through the array\n",
    "    for i in range(1, len(arr)):\n",
    "        # If current element is different from previous element, increment unique_index and update arr[unique_index]\n",
    "        if arr[i] != arr[unique_index]:\n",
    "            unique_index += 1\n",
    "            arr[unique_index] = arr[i]\n",
    "    \n",
    "    # Truncate the array to remove duplicates\n",
    "    return arr[:unique_index + 1]\n",
    "\n",
    "# Example usage:\n",
    "array1 = [2, 2, 2, 2, 2]\n",
    "array2 = [1, 2, 2, 3, 4, 4, 4, 5, 5]\n",
    "\n",
    "print(\"Original array:\", array1)\n",
    "print(\"Array after removing duplicates:\", remove_duplicates(array1))\n",
    "\n",
    "print(\"\\nOriginal array:\", array2)\n",
    "print(\"Array after removing duplicates:\", remove_duplicates(array2))\n"
   ]
  }
 ],
 "metadata": {
  "kernelspec": {
   "display_name": "Python 3",
   "language": "python",
   "name": "python3"
  },
  "language_info": {
   "codemirror_mode": {
    "name": "ipython",
    "version": 3
   },
   "file_extension": ".py",
   "mimetype": "text/x-python",
   "name": "python",
   "nbconvert_exporter": "python",
   "pygments_lexer": "ipython3",
   "version": "3.11.7"
  }
 },
 "nbformat": 4,
 "nbformat_minor": 2
}
