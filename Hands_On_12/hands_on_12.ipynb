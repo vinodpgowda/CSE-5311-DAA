{
 "cells": [
  {
   "cell_type": "code",
   "execution_count": 1,
   "metadata": {},
   "outputs": [
    {
     "name": "stdout",
     "output_type": "stream",
     "text": [
      "Array: [10, 20, 30, 40]\n",
      "Element at index 2: 30\n",
      "Length of array: 4\n"
     ]
    }
   ],
   "source": [
    "class DynamicArray:\n",
    "    def __init__(self):\n",
    "        self.capacity = 1  # Initial capacity of the array\n",
    "        self.size = 0      # Current number of elements in the array\n",
    "        self.array = self.create_array(self.capacity)\n",
    "\n",
    "    def create_array(self, capacity):\n",
    "        \"\"\"Create a new array with the given capacity.\"\"\"\n",
    "        return [0] * capacity\n",
    "\n",
    "    def is_full(self):\n",
    "        \"\"\"Check if the array is full and needs resizing.\"\"\"\n",
    "        return self.size == self.capacity\n",
    "\n",
    "    def resize(self, new_capacity):\n",
    "        \"\"\"Resize the array to the new capacity.\"\"\"\n",
    "        new_array = self.create_array(new_capacity)\n",
    "        # Copy elements from the old array to the new array\n",
    "        for i in range(self.size):\n",
    "            new_array[i] = self.array[i]\n",
    "        self.array = new_array\n",
    "        self.capacity = new_capacity\n",
    "\n",
    "    def append(self, value):\n",
    "        \"\"\"Append a new element to the end of the array.\"\"\"\n",
    "        if self.is_full():\n",
    "            # Double the capacity if the array is full\n",
    "            self.resize(self.capacity * 2)\n",
    "        self.array[self.size] = value\n",
    "        self.size += 1\n",
    "\n",
    "    def get(self, index):\n",
    "        \"\"\"Get the element at the specified index.\"\"\"\n",
    "        if 0 <= index < self.size:\n",
    "            return self.array[index]\n",
    "        else:\n",
    "            raise IndexError(\"Index out of range\")\n",
    "\n",
    "    def __len__(self):\n",
    "        \"\"\"Return the number of elements in the array.\"\"\"\n",
    "        return self.size\n",
    "\n",
    "    def __str__(self):\n",
    "        \"\"\"Return a string representation of the array.\"\"\"\n",
    "        return \"[\" + \", \".join(str(self.array[i]) for i in range(self.size)) + \"]\"\n",
    "\n",
    "\n",
    "# Example usage:\n",
    "if __name__ == \"__main__\":\n",
    "    # Create a new dynamic array\n",
    "    arr = DynamicArray()\n",
    "\n",
    "    # Append elements to the array\n",
    "    arr.append(10)\n",
    "    arr.append(20)\n",
    "    arr.append(30)\n",
    "    arr.append(40)\n",
    "\n",
    "    # Print the array\n",
    "    print(\"Array:\", arr)  # Output: Array: [10, 20, 30, 40]\n",
    "\n",
    "    # Get elements by index\n",
    "    print(\"Element at index 2:\", arr.get(2))  # Output: Element at index 2: 30\n",
    "\n",
    "    # Accessing length of the array\n",
    "    print(\"Length of array:\", len(arr))  # Output: Length of array: 4\n"
   ]
  },
  {
   "cell_type": "code",
   "execution_count": null,
   "metadata": {},
   "outputs": [],
   "source": []
  }
 ],
 "metadata": {
  "kernelspec": {
   "display_name": "Python 3",
   "language": "python",
   "name": "python3"
  },
  "language_info": {
   "codemirror_mode": {
    "name": "ipython",
    "version": 3
   },
   "file_extension": ".py",
   "mimetype": "text/x-python",
   "name": "python",
   "nbconvert_exporter": "python",
   "pygments_lexer": "ipython3",
   "version": "3.11.7"
  }
 },
 "nbformat": 4,
 "nbformat_minor": 2
}
