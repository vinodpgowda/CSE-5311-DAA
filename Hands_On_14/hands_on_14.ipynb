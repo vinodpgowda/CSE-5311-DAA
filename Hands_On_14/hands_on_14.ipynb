{
 "cells": [
  {
   "cell_type": "markdown",
   "metadata": {},
   "source": [
    "# Implement the following algorithms:\n",
    "\n",
    "## 1. Topological sort"
   ]
  },
  {
   "cell_type": "code",
   "execution_count": 11,
   "metadata": {},
   "outputs": [
    {
     "name": "stdout",
     "output_type": "stream",
     "text": [
      "Topological Ordering:\n",
      "['shirt', 'tie', 'undershorts', 'socks', 'pants', 'belt', 'jacket', 'shoes']\n"
     ]
    }
   ],
   "source": [
    "from collections import defaultdict\n",
    "\n",
    "class Graph:\n",
    "    def __init__(self):\n",
    "        self.graph = defaultdict(list)\n",
    "\n",
    "    def add_edge(self, u, v):\n",
    "        self.graph[u].append(v)\n",
    "\n",
    "    def topological_sort(self):\n",
    "        # Helper function to perform DFS and topological sorting\n",
    "        def dfs(node):\n",
    "            visited.add(node)\n",
    "            for neighbor in self.graph[node]:\n",
    "                if neighbor not in visited:\n",
    "                    dfs(neighbor)\n",
    "            sorted_nodes.append(node)\n",
    "\n",
    "        visited = set()\n",
    "        sorted_nodes = []\n",
    "\n",
    "        # Create a list of all nodes in the graph\n",
    "        all_nodes = list(self.graph.keys())\n",
    "\n",
    "        # Visit each node and perform DFS if not visited\n",
    "        for node in all_nodes:\n",
    "            if node not in visited:\n",
    "                dfs(node)\n",
    "\n",
    "        # Return the reversed list of sorted nodes\n",
    "        return sorted_nodes[::-1]\n",
    "\n",
    "# Example from figure 22.7\n",
    "g = Graph()\n",
    "g.add_edge('undershorts', 'pants')\n",
    "g.add_edge('undershorts', 'socks')\n",
    "g.add_edge('pants', 'shoes')\n",
    "g.add_edge('pants', 'belt')\n",
    "g.add_edge('socks', 'shoes')\n",
    "g.add_edge('shirt', 'belt')\n",
    "g.add_edge('shirt', 'tie')\n",
    "g.add_edge('tie', 'jacket')\n",
    "g.add_edge('belt', 'jacket')\n",
    "\n",
    "print(\"Topological Ordering:\")\n",
    "print(g.topological_sort())\n"
   ]
  },
  {
   "cell_type": "markdown",
   "metadata": {},
   "source": [
    "## 2. Depth-First Search"
   ]
  },
  {
   "cell_type": "code",
   "execution_count": 12,
   "metadata": {},
   "outputs": [
    {
     "name": "stdout",
     "output_type": "stream",
     "text": [
      "Start Times: {'u': 1, 'x': 3, 'v': 5, 'y': 7, 'w': 9, 'z': 11}\n",
      "Finish Times: {'u': 2, 'x': 4, 'v': 6, 'y': 8, 'w': 10, 'z': 12}\n"
     ]
    }
   ],
   "source": [
    "from collections import defaultdict\n",
    "\n",
    "class Graph:\n",
    "    def __init__(self):\n",
    "        self.graph = defaultdict(list)\n",
    "        self.time = 0  # To track DFS start and finish times\n",
    "\n",
    "    def add_edge(self, u, v):\n",
    "        self.graph[u].append(v)\n",
    "\n",
    "    def dfs(self):\n",
    "        visited = {}\n",
    "        start_times = {}\n",
    "        finish_times = {}\n",
    "\n",
    "        # Helper function for DFS traversal\n",
    "        def dfs_visit(node):\n",
    "            nonlocal visited, start_times, finish_times\n",
    "            visited[node] = True\n",
    "            self.time += 1\n",
    "            start_times[node] = self.time  # Record start time\n",
    "\n",
    "            for neighbor in self.graph[node]:\n",
    "                if neighbor not in visited:\n",
    "                    dfs_visit(neighbor)\n",
    "\n",
    "            self.time += 1\n",
    "            finish_times[node] = self.time  # Record finish time\n",
    "\n",
    "        # Initialize visited status for all nodes\n",
    "        for node in self.graph:\n",
    "            visited[node] = False\n",
    "\n",
    "        # Perform DFS for all nodes (in case of disconnected components)\n",
    "        for node in self.graph:\n",
    "            if not visited[node]:\n",
    "                dfs_visit(node)\n",
    "\n",
    "        return start_times, finish_times\n",
    "\n",
    "# Example usage:\n",
    "g = Graph()\n",
    "g.add_edge('u', 'v')\n",
    "g.add_edge('u', 'x')\n",
    "g.add_edge('x', 'v')\n",
    "g.add_edge('v', 'y')\n",
    "g.add_edge('y', 'x')\n",
    "g.add_edge('w', 'y')\n",
    "g.add_edge('w', 'z')\n",
    "g.add_edge('z', 'z')\n",
    "\n",
    "start_times, finish_times = g.dfs()\n",
    "print(\"Start Times:\", start_times)\n",
    "print(\"Finish Times:\", finish_times)\n"
   ]
  },
  {
   "cell_type": "markdown",
   "metadata": {},
   "source": [
    "## 3. Kruskal algorithm"
   ]
  },
  {
   "cell_type": "code",
   "execution_count": 13,
   "metadata": {},
   "outputs": [
    {
     "name": "stdout",
     "output_type": "stream",
     "text": [
      "Edges in the MST:\n",
      "g - h : 1\n",
      "c - i : 2\n",
      "a - b : 4\n",
      "c - f : 4\n",
      "g - i : 6\n",
      "c - d : 7\n",
      "a - h : 8\n",
      "d - e : 9\n"
     ]
    }
   ],
   "source": [
    "class Graph:\n",
    "    def __init__(self, num_vertices):\n",
    "        self.num_vertices = num_vertices\n",
    "        self.edges = []\n",
    "\n",
    "    def add_edge(self, u, v, weight):\n",
    "        self.edges.append((weight, u, v))\n",
    "\n",
    "    def kruskal(self):\n",
    "        # Sort edges by weight\n",
    "        self.edges.sort()\n",
    "\n",
    "        mst = []\n",
    "        ds = DisjointSet()\n",
    "\n",
    "        # Initialize disjoint set for each vertex\n",
    "        for v in range(self.num_vertices):\n",
    "            ds.parent[v] = v\n",
    "            ds.rank[v] = 0\n",
    "\n",
    "        # Process each edge in sorted order\n",
    "        for weight, u, v in self.edges:\n",
    "            if ds.find(u) != ds.find(v):\n",
    "                ds.union(u, v)\n",
    "                mst.append((u, v, weight))\n",
    "\n",
    "        return mst\n",
    "\n",
    "class DisjointSet:\n",
    "    def __init__(self):\n",
    "        self.parent = {}\n",
    "        self.rank = {}\n",
    "\n",
    "    def find(self, item):\n",
    "        if self.parent[item] != item:\n",
    "            self.parent[item] = self.find(self.parent[item])  # Path compression\n",
    "        return self.parent[item]\n",
    "\n",
    "    def union(self, set1, set2):\n",
    "        root1 = self.find(set1)\n",
    "        root2 = self.find(set2)\n",
    "\n",
    "        if root1 != root2:\n",
    "            # Union by rank\n",
    "            if self.rank[root1] > self.rank[root2]:\n",
    "                self.parent[root2] = root1\n",
    "            elif self.rank[root1] < self.rank[root2]:\n",
    "                self.parent[root1] = root2\n",
    "            else:\n",
    "                self.parent[root2] = root1\n",
    "                self.rank[root1] += 1\n",
    "\n",
    "# Example usage:\n",
    "g = Graph(9)  # Create a graph with 9 vertices (indexed from 0 to 8)\n",
    "node_indices = {'a': 0, 'b': 1, 'c': 2, 'd': 3, 'e': 4, 'f': 5, 'g': 6, 'h': 7, 'i': 8}\n",
    "\n",
    "# Add edges to the graph with weights\n",
    "g.add_edge(node_indices['a'], node_indices['b'], 4)  # a-b\n",
    "g.add_edge(node_indices['a'], node_indices['h'], 8)  # a-h\n",
    "g.add_edge(node_indices['b'], node_indices['h'], 11) # b-h\n",
    "g.add_edge(node_indices['b'], node_indices['c'], 8)  # b-c\n",
    "g.add_edge(node_indices['h'], node_indices['i'], 7)  # h-i\n",
    "g.add_edge(node_indices['g'], node_indices['h'], 1)  # g-h\n",
    "g.add_edge(node_indices['g'], node_indices['i'], 6)  # g-i\n",
    "g.add_edge(node_indices['c'], node_indices['i'], 2)  # c-i\n",
    "g.add_edge(node_indices['c'], node_indices['f'], 4)  # c-f\n",
    "g.add_edge(node_indices['c'], node_indices['d'], 7)  # c-d\n",
    "g.add_edge(node_indices['f'], node_indices['d'], 14) # f-d\n",
    "g.add_edge(node_indices['f'], node_indices['e'], 10) # f-e\n",
    "g.add_edge(node_indices['d'], node_indices['e'], 9)  # d-e\n",
    "\n",
    "mst = g.kruskal()  # Compute the MST using Kruskal's algorithm\n",
    "\n",
    "print(\"Edges in the MST:\")\n",
    "for u, v, weight in mst:\n",
    "    print(f\"{chr(97 + u)} - {chr(97 + v)} : {weight}\")\n"
   ]
  },
  {
   "cell_type": "code",
   "execution_count": null,
   "metadata": {},
   "outputs": [],
   "source": []
  }
 ],
 "metadata": {
  "kernelspec": {
   "display_name": "Python 3",
   "language": "python",
   "name": "python3"
  },
  "language_info": {
   "codemirror_mode": {
    "name": "ipython",
    "version": 3
   },
   "file_extension": ".py",
   "mimetype": "text/x-python",
   "name": "python",
   "nbconvert_exporter": "python",
   "pygments_lexer": "ipython3",
   "version": "3.11.7"
  }
 },
 "nbformat": 4,
 "nbformat_minor": 2
}
