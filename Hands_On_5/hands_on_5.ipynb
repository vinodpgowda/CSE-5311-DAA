{
 "cells": [
  {
   "cell_type": "markdown",
   "metadata": {},
   "source": [
    "## Hands-On 5\n",
    "\n",
    "1. Implement a min heap data structure. For the parent and left/right functions use bit manipulation operators. In addition your heap should have the following functionality\n",
    "\n",
    "    * The ability to initially build the heap (build_min_heap)\n",
    "    * The ability to heapify\n",
    "    * The ability to get and remove (\"pop\") the root node from the heap (and of course re-heapify everything)\n",
    "    * The heap should be generic to the type of data (can store floats, int, custom datastructure)\n",
    "    * Show example(s) of your heap working. Please demonstrate ALL the functionality you implemented.\n",
    "    * Upload your source code to github along with your example(s).\n",
    "\n"
   ]
  },
  {
   "cell_type": "code",
   "execution_count": 8,
   "metadata": {},
   "outputs": [
    {
     "name": "stdout",
     "output_type": "stream",
     "text": [
      "Heap: [1, 4, 3, 5, 10]\n",
      "Heap after insertion: [1, 4, 3, 5, 10, 5.5]\n",
      "Popped root: 1\n",
      "Heap after pop: [3, 4, 5.5, 5, 10]\n"
     ]
    }
   ],
   "source": [
    "class MinHeap:\n",
    "    def __init__(self):\n",
    "        self.heap = []\n",
    "\n",
    "    def parent(self, index):\n",
    "        return (index - 1) >> 1\n",
    "\n",
    "    def left(self, index):\n",
    "        return (index << 1) + 1\n",
    "\n",
    "    def right(self, index):\n",
    "        return (index << 1) + 2\n",
    "\n",
    "    def swap(self, i, j):\n",
    "        self.heap[i], self.heap[j] = self.heap[j], self.heap[i]\n",
    "\n",
    "    def heapify(self, index):\n",
    "        smallest = index\n",
    "        left_child = self.left(index)\n",
    "        right_child = self.right(index)\n",
    "\n",
    "        if left_child < len(self.heap) and self.heap[left_child] < self.heap[smallest]:\n",
    "            smallest = left_child\n",
    "        if right_child < len(self.heap) and self.heap[right_child] < self.heap[smallest]:\n",
    "            smallest = right_child\n",
    "\n",
    "        if smallest != index:\n",
    "            self.swap(index, smallest)\n",
    "            self.heapify(smallest)\n",
    "\n",
    "    def build_min_heap(self, arr):\n",
    "        self.heap = arr[:]\n",
    "        for i in range(len(arr) // 2, -1, -1):\n",
    "            self.heapify(i)\n",
    "\n",
    "    def insert(self, value):\n",
    "        self.heap.append(value)\n",
    "        current_index = len(self.heap) - 1\n",
    "        parent_index = self.parent(current_index)\n",
    "        while current_index > 0 and self.heap[current_index] < self.heap[parent_index]:\n",
    "            self.swap(current_index, parent_index)\n",
    "            current_index = parent_index\n",
    "            parent_index = self.parent(current_index)\n",
    "\n",
    "    def pop(self):\n",
    "        if not self.heap:\n",
    "            return None\n",
    "        root = self.heap[0]\n",
    "        self.heap[0] = self.heap[-1]\n",
    "        self.heap.pop()\n",
    "        self.heapify(0)\n",
    "        return root\n",
    "\n",
    "def main():\n",
    "    heap = MinHeap()\n",
    "    heap.build_min_heap([1, 4, 3, 5, 10])\n",
    "    print(\"Heap:\", heap.heap)  # Output: [1, 4, 3, 5, 10]\n",
    "\n",
    "    # Insert a new element\n",
    "    heap.insert(5.5)\n",
    "    print(\"Heap after insertion:\", heap.heap)\n",
    "\n",
    "    # Pop and re-heapify\n",
    "    print(\"Popped root:\", heap.pop())  # Output: 1\n",
    "    print(\"Heap after pop:\", heap.heap)  # Output: [3, 4, 10, 5]\n",
    "\n",
    "if __name__ == '__main__':\n",
    "    main()\n"
   ]
  }
 ],
 "metadata": {
  "kernelspec": {
   "display_name": "Python 3",
   "language": "python",
   "name": "python3"
  },
  "language_info": {
   "codemirror_mode": {
    "name": "ipython",
    "version": 3
   },
   "file_extension": ".py",
   "mimetype": "text/x-python",
   "name": "python",
   "nbconvert_exporter": "python",
   "pygments_lexer": "ipython3",
   "version": "3.11.7"
  }
 },
 "nbformat": 4,
 "nbformat_minor": 2
}
