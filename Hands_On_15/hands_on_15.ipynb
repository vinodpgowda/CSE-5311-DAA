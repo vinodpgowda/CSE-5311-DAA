{
 "cells": [
  {
   "cell_type": "markdown",
   "metadata": {},
   "source": [
    "## Implement and test on examples from the book. Then upload your source code to GitHub. Do this for the following algorithms:\n",
    "\n",
    "### 1.  Dijkstra's algorithm\n"
   ]
  },
  {
   "cell_type": "code",
   "execution_count": 2,
   "metadata": {},
   "outputs": [
    {
     "name": "stdout",
     "output_type": "stream",
     "text": [
      "Shortest distances from node S\n",
      "To node S: 0\n",
      "To node T: 8\n",
      "To node X: 9\n",
      "To node Y: 5\n",
      "To node Z: 7\n"
     ]
    }
   ],
   "source": [
    "import heapq\n",
    "\n",
    "def dijkstra(graph, start):\n",
    "    # Initialize distances with infinity for all nodes\n",
    "    distances = {node: float('inf') for node in graph}\n",
    "    distances[start] = 0  # Distance from start to itself is 0\n",
    "    priority_queue = [(0, start)]  # (distance, node)\n",
    "    visited = set()\n",
    "    \n",
    "    while priority_queue:\n",
    "        # Pop the node with the smallest distance\n",
    "        current_distance, current_node = heapq.heappop(priority_queue)\n",
    "        \n",
    "        if current_node in visited:\n",
    "            continue\n",
    "        \n",
    "        visited.add(current_node)\n",
    "        \n",
    "        # Update distances to neighboring nodes\n",
    "        for neighbor, weight in graph[current_node].items():\n",
    "            distance = current_distance + weight\n",
    "            \n",
    "            # Only consider this new path if it's better\n",
    "            if distance < distances[neighbor]:\n",
    "                distances[neighbor] = distance\n",
    "                heapq.heappush(priority_queue, (distance, neighbor))\n",
    "    \n",
    "    return distances\n",
    "\n",
    "# Example graph\n",
    "graph = {\n",
    "    'S': {'T': 10, 'Y': 5, 'Z': 7},\n",
    "    'T': {'X': 1, 'Y': 2},\n",
    "    'X': {'Z': 4},\n",
    "    'Y': {'Z': 2, 'T': 3, 'X': 9},\n",
    "    'Z': {'S': 7, 'X': 6}\n",
    "}\n",
    "\n",
    "# Test Dijkstra's algorithm from node 'S'\n",
    "start_node = 'S'\n",
    "distances_from_s = dijkstra(graph, start_node)\n",
    "\n",
    "# Print the shortest distances from 'S' to each node\n",
    "print(\"Shortest distances from node\", start_node)\n",
    "for node, distance in distances_from_s.items():\n",
    "    print(f\"To node {node}: {distance}\")\n"
   ]
  },
  {
   "cell_type": "markdown",
   "metadata": {},
   "source": [
    "### 2. Bellman-Ford algorithm"
   ]
  },
  {
   "cell_type": "code",
   "execution_count": 4,
   "metadata": {},
   "outputs": [
    {
     "name": "stdout",
     "output_type": "stream",
     "text": [
      "Shortest distances from node S\n",
      "To node S: 0\n",
      "To node T: 2\n",
      "To node X: 4\n",
      "To node Y: 7\n",
      "To node Z: -2\n",
      "\n",
      "Predecessors in shortest paths from node S\n",
      "Predecessor of S: None\n",
      "Predecessor of T: X\n",
      "Predecessor of X: Y\n",
      "Predecessor of Y: S\n",
      "Predecessor of Z: T\n"
     ]
    }
   ],
   "source": [
    "def bellman_ford(graph, start):\n",
    "    # Step 1: Initialize distances and predecessor\n",
    "    distances = {node: float('inf') for node in graph}\n",
    "    predecessors = {node: None for node in graph}\n",
    "    distances[start] = 0\n",
    "    \n",
    "    # Step 2: Relax edges repeatedly\n",
    "    for _ in range(len(graph) - 1):\n",
    "        for node in graph:\n",
    "            for neighbor, weight in graph[node].items():\n",
    "                if distances[node] != float('inf') and distances[node] + weight < distances[neighbor]:\n",
    "                    distances[neighbor] = distances[node] + weight\n",
    "                    predecessors[neighbor] = node\n",
    "    \n",
    "    # Step 3: Check for negative weight cycles\n",
    "    for node in graph:\n",
    "        for neighbor, weight in graph[node].items():\n",
    "            if distances[node] != float('inf') and distances[node] + weight < distances[neighbor]:\n",
    "                raise ValueError(\"Graph contains a negative weight cycle\")\n",
    "    \n",
    "    return distances, predecessors\n",
    "\n",
    "# Example graph\n",
    "graph = {\n",
    "    'S': {'T': 6, 'Y': 7},\n",
    "    'T': {'X': 5, 'Y': 8, 'Z': -4},\n",
    "    'X': {'T': -2},\n",
    "    'Y': {'X': -3, 'Z': 9},\n",
    "    'Z': {'S': 2, 'X': 7}\n",
    "}\n",
    "\n",
    "# Test Bellman-Ford algorithm from node 'S'\n",
    "start_node = 'S'\n",
    "distances_from_s, predecessors = bellman_ford(graph, start_node)\n",
    "\n",
    "# Print the shortest distances from 'S' to each node\n",
    "print(\"Shortest distances from node\", start_node)\n",
    "for node, distance in distances_from_s.items():\n",
    "    print(f\"To node {node}: {distance}\")\n",
    "\n",
    "# Print the predecessors in the shortest paths from 'S' to each node\n",
    "print(\"\\nPredecessors in shortest paths from node\", start_node)\n",
    "for node, predecessor in predecessors.items():\n",
    "    print(f\"Predecessor of {node}: {predecessor}\")\n"
   ]
  },
  {
   "cell_type": "markdown",
   "metadata": {},
   "source": [
    "### 3. Floyd-Warshall algorithm"
   ]
  },
  {
   "cell_type": "code",
   "execution_count": 6,
   "metadata": {},
   "outputs": [
    {
     "name": "stdout",
     "output_type": "stream",
     "text": [
      "All-pairs shortest paths:\n",
      "Distance from node 1 to node 1: 0\n",
      "Distance from node 1 to node 2: 1\n",
      "Distance from node 1 to node 3: -3\n",
      "Distance from node 1 to node 4: 2\n",
      "Distance from node 1 to node 5: -4\n",
      "Distance from node 2 to node 1: 3\n",
      "Distance from node 2 to node 2: 0\n",
      "Distance from node 2 to node 3: -4\n",
      "Distance from node 2 to node 4: 1\n",
      "Distance from node 2 to node 5: -1\n",
      "Distance from node 3 to node 1: 7\n",
      "Distance from node 3 to node 2: 4\n",
      "Distance from node 3 to node 3: 0\n",
      "Distance from node 3 to node 4: 5\n",
      "Distance from node 3 to node 5: 3\n",
      "Distance from node 4 to node 1: 2\n",
      "Distance from node 4 to node 2: -1\n",
      "Distance from node 4 to node 3: -5\n",
      "Distance from node 4 to node 4: 0\n",
      "Distance from node 4 to node 5: -2\n",
      "Distance from node 5 to node 1: 8\n",
      "Distance from node 5 to node 2: 5\n",
      "Distance from node 5 to node 3: 1\n",
      "Distance from node 5 to node 4: 6\n",
      "Distance from node 5 to node 5: 0\n"
     ]
    }
   ],
   "source": [
    "def floyd_warshall(graph):\n",
    "    # Initialize distance matrix with infinity\n",
    "    nodes = list(graph.keys())\n",
    "    n = len(nodes)\n",
    "    distance = {i: {j: float('inf') for j in nodes} for i in nodes}\n",
    "    \n",
    "    # Set distance for existing edges\n",
    "    for i in nodes:\n",
    "        distance[i][i] = 0  # Distance to itself is 0\n",
    "        if i in graph:\n",
    "            for j in graph[i]:\n",
    "                distance[i][j] = graph[i][j]\n",
    "    \n",
    "    # Floyd-Warshall algorithm\n",
    "    for k in nodes:\n",
    "        for i in nodes:\n",
    "            for j in nodes:\n",
    "                if distance[i][j] > distance[i][k] + distance[k][j]:\n",
    "                    distance[i][j] = distance[i][k] + distance[k][j]\n",
    "    \n",
    "    return distance\n",
    "\n",
    "# Example graph\n",
    "graph = {\n",
    "    '1': {'2': 3, '3': 8, '5': -4},\n",
    "    '2': {'5': 7, '4': 1},\n",
    "    '3': {'2': 4},\n",
    "    '4': {'3': -5, '1': 2},\n",
    "    '5': {'4': 6}\n",
    "}\n",
    "\n",
    "# Apply Floyd-Warshall algorithm to compute all-pairs shortest paths\n",
    "all_pairs_shortest_paths = floyd_warshall(graph)\n",
    "\n",
    "# Print the shortest distances between all pairs of nodes\n",
    "print(\"All-pairs shortest paths:\")\n",
    "for i in all_pairs_shortest_paths:\n",
    "    for j in all_pairs_shortest_paths[i]:\n",
    "        if all_pairs_shortest_paths[i][j] != float('inf'):\n",
    "            print(f\"Distance from node {i} to node {j}: {all_pairs_shortest_paths[i][j]}\")\n"
   ]
  },
  {
   "cell_type": "code",
   "execution_count": null,
   "metadata": {},
   "outputs": [],
   "source": []
  }
 ],
 "metadata": {
  "kernelspec": {
   "display_name": "Python 3",
   "language": "python",
   "name": "python3"
  },
  "language_info": {
   "codemirror_mode": {
    "name": "ipython",
    "version": 3
   },
   "file_extension": ".py",
   "mimetype": "text/x-python",
   "name": "python",
   "nbconvert_exporter": "python",
   "pygments_lexer": "ipython3",
   "version": "3.11.7"
  }
 },
 "nbformat": 4,
 "nbformat_minor": 2
}
